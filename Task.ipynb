{
 "cells": [
  {
   "cell_type": "markdown",
   "id": "d158e215-a08b-41b3-bfc5-6b76283ffa25",
   "metadata": {},
   "source": [
    "# Importing Pandas library"
   ]
  },
  {
   "cell_type": "code",
   "execution_count": 1,
   "id": "48711bc7-123d-4dcc-b27f-a495bfd54583",
   "metadata": {},
   "outputs": [],
   "source": [
    "import pandas as pd"
   ]
  },
  {
   "cell_type": "markdown",
   "id": "6970d601-dfb3-404c-a54e-c66317a7d5f2",
   "metadata": {},
   "source": [
    "# Load the CSV file into a Pandas DataFrame"
   ]
  },
  {
   "cell_type": "code",
   "execution_count": 2,
   "id": "d852e032-33f4-43a5-9aa7-6f00e850ace7",
   "metadata": {},
   "outputs": [],
   "source": [
    "file_path = '01.Data Cleaning and Preprocessing.csv'\n",
    "df = pd.read_csv(file_path)"
   ]
  },
  {
   "cell_type": "markdown",
   "id": "ce60687d-9dee-42d8-b7e2-040f3358c53b",
   "metadata": {},
   "source": [
    "# Display the first few rows of the DataFrame"
   ]
  },
  {
   "cell_type": "code",
   "execution_count": 3,
   "id": "2984cba5-bf6b-4313-8303-829bcf6b333f",
   "metadata": {},
   "outputs": [
    {
     "name": "stdout",
     "output_type": "stream",
     "text": [
      "Initial DataFrame:\n",
      "  Observation  Y-Kappa  ChipRate  BF-CMratio  BlowFlow  ChipLevel4   \\\n",
      "0    31-00:00    23.10    16.520     121.717  1177.607      169.805   \n",
      "1    31-01:00    27.60    16.810      79.022  1328.360      341.327   \n",
      "2    31-02:00    23.19    16.709      79.562  1329.407      239.161   \n",
      "3    31-03:00    23.60    16.478      81.011  1334.877      213.527   \n",
      "4    31-04:00    22.90    15.618      93.244  1334.168      243.131   \n",
      "\n",
      "   T-upperExt-2   T-lowerExt-2    UCZAA  WhiteFlow-4   ...  SteamFlow-4   \\\n",
      "0        358.282         329.545  1.443       599.253  ...        67.122   \n",
      "1        351.050         329.067  1.549       537.201  ...        60.012   \n",
      "2        350.022         329.260  1.600       549.611  ...        61.304   \n",
      "3        350.938         331.142  1.604       623.362  ...        68.496   \n",
      "4        351.640         332.709    NaN       638.672  ...        70.022   \n",
      "\n",
      "   Lower-HeatT-3  Upper-HeatT-3   ChipMass-4   WeakLiquorF   BlackFlow-2   \\\n",
      "0        329.432         303.099      175.964      1127.197      1319.039   \n",
      "1        330.823         304.879      163.202       665.975      1297.317   \n",
      "2        329.140         303.383      164.013       677.534      1327.072   \n",
      "3        328.875         302.254      181.487       767.853      1324.461   \n",
      "4        328.352         300.954      183.929       888.448      1343.424   \n",
      "\n",
      "   WeakWashF   SteamHeatF-3   T-Top-Chips-4   SulphidityL-4   \n",
      "0     257.325         54.612         252.077             NaN  \n",
      "1     241.182         46.603         251.406           29.11  \n",
      "2     237.272         51.795         251.335             NaN  \n",
      "3     239.478         54.846         250.312           29.02  \n",
      "4     215.372         54.186         249.916           29.01  \n",
      "\n",
      "[5 rows x 23 columns]\n"
     ]
    }
   ],
   "source": [
    "print(\"Initial DataFrame:\")\n",
    "print(df.head())"
   ]
  },
  {
   "cell_type": "markdown",
   "id": "849a244c-2218-42e9-8270-029e9e6fb799",
   "metadata": {},
   "source": [
    "# Filtering data: Example - Filter rows where 'Y-Kappa' is greater than 25"
   ]
  },
  {
   "cell_type": "code",
   "execution_count": 4,
   "id": "6a92e4cf-2704-423a-956a-56a70c98e35c",
   "metadata": {},
   "outputs": [
    {
     "name": "stdout",
     "output_type": "stream",
     "text": [
      "\n",
      "Filtered DataFrame (Y-Kappa > 25):\n",
      "   Observation  Y-Kappa  ChipRate  BF-CMratio  BlowFlow  ChipLevel4   \\\n",
      "1     31-01:00    27.60    16.810      79.022  1328.360      341.327   \n",
      "12    31-11:00    26.62    15.467      84.447  1334.255      386.971   \n",
      "13    31-12:00    27.20    16.083      82.839  1332.331      366.855   \n",
      "15    31-14:00    25.40    16.425      72.924  1197.775      118.821   \n",
      "40     1-15:00    27.10    13.558      83.117  1175.417      289.256   \n",
      "\n",
      "    T-upperExt-2   T-lowerExt-2    UCZAA  WhiteFlow-4   ...  SteamFlow-4   \\\n",
      "1         351.050         329.067  1.549       537.201  ...        60.012   \n",
      "12        349.392         321.021  1.428       531.250  ...        59.407   \n",
      "13        350.094         327.439  1.486       527.893  ...        60.271   \n",
      "15        350.765         329.799  1.635       585.011  ...        65.474   \n",
      "40        339.168         318.386  1.360       480.184  ...        48.568   \n",
      "\n",
      "    Lower-HeatT-3  Upper-HeatT-3   ChipMass-4   WeakLiquorF   BlackFlow-2   \\\n",
      "1         330.823         304.879      163.202       665.975      1297.317   \n",
      "12        330.284         303.248      156.797       799.947      1299.782   \n",
      "13        330.023         302.883      160.562       771.158      1299.974   \n",
      "15        329.773         302.884      175.646       756.154      1300.037   \n",
      "40        318.228         294.850      131.537       744.659       996.046   \n",
      "\n",
      "    WeakWashF   SteamHeatF-3   T-Top-Chips-4   SulphidityL-4   \n",
      "1      241.182         46.603         251.406           29.11  \n",
      "12     118.901         46.597         251.721             NaN  \n",
      "13     153.647         47.175         251.767           30.18  \n",
      "15     401.418         54.628         251.009           30.41  \n",
      "40     118.899         41.985         253.450             NaN  \n",
      "\n",
      "[5 rows x 23 columns]\n"
     ]
    }
   ],
   "source": [
    "filtered_df = df[df['Y-Kappa'] > 25]\n",
    "print(\"\\nFiltered DataFrame (Y-Kappa > 25):\")\n",
    "print(filtered_df.head())\n"
   ]
  },
  {
   "cell_type": "markdown",
   "id": "d3246ef1-f6a9-499f-a5bf-e8869b171bfa",
   "metadata": {},
   "source": [
    "# Handling missing values: Example - Fill missing values with the mean of the column for numeric columns only"
   ]
  },
  {
   "cell_type": "code",
   "execution_count": 5,
   "id": "fa8361f2-cdfd-4e0b-a593-393c8d3463a2",
   "metadata": {},
   "outputs": [
    {
     "name": "stdout",
     "output_type": "stream",
     "text": [
      "\n",
      "DataFrame after filling missing values with column mean (numeric columns only):\n",
      "  Observation  Y-Kappa  ChipRate  BF-CMratio  BlowFlow  ChipLevel4   \\\n",
      "0    31-00:00    23.10    16.520     121.717  1177.607      169.805   \n",
      "1    31-01:00    27.60    16.810      79.022  1328.360      341.327   \n",
      "2    31-02:00    23.19    16.709      79.562  1329.407      239.161   \n",
      "3    31-03:00    23.60    16.478      81.011  1334.877      213.527   \n",
      "4    31-04:00    22.90    15.618      93.244  1334.168      243.131   \n",
      "\n",
      "   T-upperExt-2   T-lowerExt-2      UCZAA  WhiteFlow-4   ...  SteamFlow-4   \\\n",
      "0        358.282         329.545  1.44300       599.253  ...        67.122   \n",
      "1        351.050         329.067  1.54900       537.201  ...        60.012   \n",
      "2        350.022         329.260  1.60000       549.611  ...        61.304   \n",
      "3        350.938         331.142  1.60400       623.362  ...        68.496   \n",
      "4        351.640         332.709  1.49201       638.672  ...        70.022   \n",
      "\n",
      "   Lower-HeatT-3  Upper-HeatT-3   ChipMass-4   WeakLiquorF   BlackFlow-2   \\\n",
      "0        329.432         303.099      175.964      1127.197      1319.039   \n",
      "1        330.823         304.879      163.202       665.975      1297.317   \n",
      "2        329.140         303.383      164.013       677.534      1327.072   \n",
      "3        328.875         302.254      181.487       767.853      1324.461   \n",
      "4        328.352         300.954      183.929       888.448      1343.424   \n",
      "\n",
      "   WeakWashF   SteamHeatF-3   T-Top-Chips-4   SulphidityL-4   \n",
      "0     257.325         54.612         252.077       30.411671  \n",
      "1     241.182         46.603         251.406       29.110000  \n",
      "2     237.272         51.795         251.335       30.411671  \n",
      "3     239.478         54.846         250.312       29.020000  \n",
      "4     215.372         54.186         249.916       29.010000  \n",
      "\n",
      "[5 rows x 23 columns]\n"
     ]
    }
   ],
   "source": [
    "numeric_cols = df.select_dtypes(include=['number']).columns\n",
    "df_filled = df.copy()\n",
    "df_filled[numeric_cols] = df_filled[numeric_cols].fillna(df_filled[numeric_cols].mean())\n",
    "print(\"\\nDataFrame after filling missing values with column mean (numeric columns only):\")\n",
    "print(df_filled.head())"
   ]
  },
  {
   "cell_type": "markdown",
   "id": "51545cf1-1c57-4856-92af-9f57f4acadad",
   "metadata": {},
   "source": [
    "# Calculating summary statistics for numeric columns"
   ]
  },
  {
   "cell_type": "code",
   "execution_count": 6,
   "id": "039bec1a-db6e-4f7c-a20f-826da30e3d37",
   "metadata": {},
   "outputs": [
    {
     "name": "stdout",
     "output_type": "stream",
     "text": [
      "\n",
      "Summary Statistics (numeric columns only):\n",
      "          Y-Kappa    ChipRate  BF-CMratio     BlowFlow  ChipLevel4   \\\n",
      "count  324.000000  324.000000  324.000000   324.000000   324.000000   \n",
      "mean    20.635370   14.347937   87.464456  1237.837614   258.164483   \n",
      "std      3.070036    1.487447    7.781774    98.070606    87.851143   \n",
      "min     12.170000    9.983000   68.645000     0.000000     0.000000   \n",
      "25%     18.382500   13.364750   82.156750  1194.525750   213.527000   \n",
      "50%     20.845000   14.347937   87.253500  1254.658500   271.605500   \n",
      "75%     23.032500   15.498250   92.123250  1288.628750   321.285000   \n",
      "max     27.600000   16.958000  121.717000  1351.240000   419.014000   \n",
      "\n",
      "       T-upperExt-2   T-lowerExt-2         UCZAA  WhiteFlow-4   AAWhiteSt-4   \\\n",
      "count     324.000000       324.00000  324.000000     324.00000    324.000000   \n",
      "mean      356.904295       324.02018    1.492010     591.73226      6.140410   \n",
      "std         9.180734         7.59777    0.101741      66.91253      0.059553   \n",
      "min       339.168000       284.63300    1.182000     405.11100      5.890000   \n",
      "25%       350.291750       321.48600    1.436000     541.00225      6.130000   \n",
      "50%       356.901648       325.63850    1.492010     592.71700      6.140410   \n",
      "75%       362.104750       329.14700    1.555250     639.45775      6.140410   \n",
      "max       399.135000       337.01200    1.747000     731.39400      6.340000   \n",
      "\n",
      "       ...  SteamFlow-4   Lower-HeatT-3  Upper-HeatT-3   ChipMass-4   \\\n",
      "count  ...    324.000000     324.000000      324.000000   324.000000   \n",
      "mean   ...     66.668285     325.567820      300.525699   162.222322   \n",
      "std    ...      5.699744       4.595568        4.554318    14.138751   \n",
      "min    ...     48.568000     318.051000      293.312000   113.922000   \n",
      "25%    ...     62.539000     321.386500      296.513750   153.089750   \n",
      "50%    ...     67.408000     325.225500      299.184500   163.601000   \n",
      "75%    ...     71.519500     329.835750      304.228250   172.555000   \n",
      "max    ...     76.147000     333.854000      311.146000   189.268000   \n",
      "\n",
      "       WeakLiquorF   BlackFlow-2   WeakWashF   SteamHeatF-3   T-Top-Chips-4   \\\n",
      "count    324.000000    324.000000  324.000000     324.000000      324.000000   \n",
      "mean     873.828941   1175.917016  263.543068      49.696907      251.240087   \n",
      "std      121.884406    148.870958  163.413391       4.537794        1.281444   \n",
      "min      486.938000    838.948000    0.000000      35.510000      248.359000   \n",
      "25%      792.150250   1047.260500  134.688500      46.411250      250.312000   \n",
      "50%      865.457500   1152.547500  266.983500      50.192500      251.375000   \n",
      "75%      965.152250   1318.991750  405.411500      53.284750      252.319750   \n",
      "max     1226.277000   1395.767000  715.715000      63.332000      254.122000   \n",
      "\n",
      "       SulphidityL-4   \n",
      "count      324.000000  \n",
      "mean        30.411671  \n",
      "std          0.511773  \n",
      "min         29.010000  \n",
      "25%         30.340000  \n",
      "50%         30.411671  \n",
      "75%         30.411671  \n",
      "max         32.840000  \n",
      "\n",
      "[8 rows x 22 columns]\n"
     ]
    }
   ],
   "source": [
    "summary_stats = df_filled.describe()\n",
    "print(\"\\nSummary Statistics (numeric columns only):\")\n",
    "print(summary_stats)\n"
   ]
  },
  {
   "cell_type": "code",
   "execution_count": null,
   "id": "452ae60e-12fb-4694-8e0e-cc896ee061dd",
   "metadata": {},
   "outputs": [],
   "source": []
  }
 ],
 "metadata": {
  "kernelspec": {
   "display_name": "Python 3 (ipykernel)",
   "language": "python",
   "name": "python3"
  },
  "language_info": {
   "codemirror_mode": {
    "name": "ipython",
    "version": 3
   },
   "file_extension": ".py",
   "mimetype": "text/x-python",
   "name": "python",
   "nbconvert_exporter": "python",
   "pygments_lexer": "ipython3",
   "version": "3.12.2"
  }
 },
 "nbformat": 4,
 "nbformat_minor": 5
}
