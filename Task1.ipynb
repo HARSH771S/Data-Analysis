{
 "cells": [
  {
   "cell_type": "code",
   "execution_count": 1,
   "id": "398af577-f002-4f04-9636-fb67b39099d8",
   "metadata": {},
   "outputs": [],
   "source": [
    "# Creating a list\n",
    "my_list = [1, 2, 3, 4, 5]"
   ]
  },
  {
   "cell_type": "code",
   "execution_count": 2,
   "id": "e7de4a04-4ded-4655-a17c-24017d9bbb5a",
   "metadata": {},
   "outputs": [
    {
     "name": "stdout",
     "output_type": "stream",
     "text": [
      "List after adding an element: [1, 2, 3, 4, 5, 6]\n"
     ]
    }
   ],
   "source": [
    "# Adding an element to the list\n",
    "my_list.append(6)\n",
    "print(f\"List after adding an element: {my_list}\")"
   ]
  },
  {
   "cell_type": "code",
   "execution_count": 3,
   "id": "0de1cc0e-be64-4515-a84b-3f45a420bc14",
   "metadata": {},
   "outputs": [
    {
     "name": "stdout",
     "output_type": "stream",
     "text": [
      "List after removing an element: [1, 2, 4, 5, 6]\n"
     ]
    }
   ],
   "source": [
    "# Removing an element from the list\n",
    "my_list.remove(3)\n",
    "print(f\"List after removing an element: {my_list}\")"
   ]
  },
  {
   "cell_type": "code",
   "execution_count": 4,
   "id": "afcece62-465a-424e-9cd8-37961b882584",
   "metadata": {},
   "outputs": [
    {
     "name": "stdout",
     "output_type": "stream",
     "text": [
      "List after modifying an element: [1, 2, 10, 5, 6]\n"
     ]
    }
   ],
   "source": [
    "# Modifying an element in the list\n",
    "my_list[2] = 10\n",
    "print(f\"List after modifying an element: {my_list}\")"
   ]
  },
  {
   "cell_type": "code",
   "execution_count": 5,
   "id": "a573618d-78b5-4b7b-83a1-d7a45ca882fa",
   "metadata": {},
   "outputs": [],
   "source": [
    "# Creating a dictionary\n",
    "my_dict = {'a': 1, 'b': 2, 'c': 3}"
   ]
  },
  {
   "cell_type": "code",
   "execution_count": 6,
   "id": "9c841737-84b2-4ea3-9481-6af601b8e687",
   "metadata": {},
   "outputs": [
    {
     "name": "stdout",
     "output_type": "stream",
     "text": [
      "Dictionary after adding an element: {'a': 1, 'b': 2, 'c': 3, 'd': 4}\n"
     ]
    }
   ],
   "source": [
    "# Adding an element to the dictionary\n",
    "my_dict['d'] = 4\n",
    "print(f\"Dictionary after adding an element: {my_dict}\")"
   ]
  },
  {
   "cell_type": "code",
   "execution_count": 7,
   "id": "b9c15cac-0037-4d04-80a2-315aec65c6b5",
   "metadata": {},
   "outputs": [
    {
     "name": "stdout",
     "output_type": "stream",
     "text": [
      "Dictionary after removing an element: {'a': 1, 'c': 3, 'd': 4}\n"
     ]
    }
   ],
   "source": [
    "# Removing an element from the dictionary\n",
    "del my_dict['b']\n",
    "print(f\"Dictionary after removing an element: {my_dict}\")"
   ]
  },
  {
   "cell_type": "code",
   "execution_count": 8,
   "id": "5fd0bf48-dd6a-4e02-845b-fa2f6e0a4799",
   "metadata": {},
   "outputs": [
    {
     "name": "stdout",
     "output_type": "stream",
     "text": [
      "Dictionary after modifying an element: {'a': 10, 'c': 3, 'd': 4}\n"
     ]
    }
   ],
   "source": [
    "# Modifying an element in the dictionary\n",
    "my_dict['a'] = 10\n",
    "print(f\"Dictionary after modifying an element: {my_dict}\")"
   ]
  },
  {
   "cell_type": "code",
   "execution_count": 9,
   "id": "bb1c4ac5-baa3-4f78-acc5-e590bb997aa1",
   "metadata": {},
   "outputs": [],
   "source": [
    "# Creating a set\n",
    "my_set = {1, 2, 3, 4, 5}"
   ]
  },
  {
   "cell_type": "code",
   "execution_count": 10,
   "id": "5ffeab81-25a8-440d-8d09-b13f7bcacd89",
   "metadata": {},
   "outputs": [
    {
     "name": "stdout",
     "output_type": "stream",
     "text": [
      "Set after adding an element: {1, 2, 3, 4, 5, 6}\n"
     ]
    }
   ],
   "source": [
    "# Adding an element to the set\n",
    "my_set.add(6)\n",
    "print(f\"Set after adding an element: {my_set}\")"
   ]
  },
  {
   "cell_type": "code",
   "execution_count": 11,
   "id": "21c6f3ee-17d1-4557-bc42-7a51b5e170ca",
   "metadata": {},
   "outputs": [
    {
     "name": "stdout",
     "output_type": "stream",
     "text": [
      "Set after removing an element: {1, 2, 4, 5, 6}\n"
     ]
    }
   ],
   "source": [
    "# Removing an element from the set\n",
    "my_set.remove(3)\n",
    "print(f\"Set after removing an element: {my_set}\")"
   ]
  },
  {
   "cell_type": "code",
   "execution_count": 12,
   "id": "d06be6a5-4e09-43c0-990d-23fdead5bb5b",
   "metadata": {},
   "outputs": [
    {
     "name": "stdout",
     "output_type": "stream",
     "text": [
      "Set after modifying an element: {1, 2, 5, 6, 10}\n"
     ]
    }
   ],
   "source": [
    "# Modifying elements in a set (sets are unordered, so you can't directly modify an element, but you can remove and add)\n",
    "my_set.remove(4)\n",
    "my_set.add(10)\n",
    "print(f\"Set after modifying an element: {my_set}\")"
   ]
  },
  {
   "cell_type": "code",
   "execution_count": null,
   "id": "248ba637-0a8b-4ac1-90f2-cc48396970b0",
   "metadata": {},
   "outputs": [],
   "source": []
  },
  {
   "cell_type": "code",
   "execution_count": null,
   "id": "02b82ca9-bc4c-4429-bc2e-c276095f9432",
   "metadata": {},
   "outputs": [],
   "source": []
  }
 ],
 "metadata": {
  "kernelspec": {
   "display_name": "Python 3 (ipykernel)",
   "language": "python",
   "name": "python3"
  },
  "language_info": {
   "codemirror_mode": {
    "name": "ipython",
    "version": 3
   },
   "file_extension": ".py",
   "mimetype": "text/x-python",
   "name": "python",
   "nbconvert_exporter": "python",
   "pygments_lexer": "ipython3",
   "version": "3.12.2"
  }
 },
 "nbformat": 4,
 "nbformat_minor": 5
}
